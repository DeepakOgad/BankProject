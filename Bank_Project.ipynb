{
 "cells": [
  {
   "cell_type": "code",
   "execution_count": 1,
   "id": "8e5c686e-3566-4954-8cd4-f7f5a5a0c16f",
   "metadata": {},
   "outputs": [],
   "source": [
    "import pandas as pd\n",
    "import numpy as np\n",
    "import requests\n",
    "from bs4 import BeautifulSoup\n",
    "import sqlite3\n",
    "from datetime import datetime    "
   ]
  },
  {
   "cell_type": "code",
   "execution_count": 2,
   "id": "43a104aa-9542-4968-9c9a-ab293ae2d4f7",
   "metadata": {},
   "outputs": [],
   "source": [
    "# ---------------------------- Logging Function ----------------------------\n",
    "def log_progress(message):\n",
    "    timestamp = datetime.now().strftime(\"%Y-%m-%d %H:%M:%S\")\n",
    "    with open(\"code_log.txt\", \"a\") as f:\n",
    "        f.write(f\"[{timestamp}] {message}\\n\")"
   ]
  },
  {
   "cell_type": "code",
   "execution_count": 3,
   "id": "7db3ab35-4df2-4f2a-aa14-8ba5566f96ba",
   "metadata": {},
   "outputs": [],
   "source": [
    "# ---------------------------- Extract Function ----------------------------\n",
    "def extract(url, table_attribs):\n",
    "    log_progress(\"Sending HTTP request to data source.\")\n",
    "    response = requests.get(url).text\n",
    "    soup = BeautifulSoup(response, 'html.parser')\n",
    "    df = pd.DataFrame(columns=table_attribs)\n",
    "\n",
    "    tables = soup.find_all('table')\n",
    "\n",
    "    for i, table in enumerate(tables):\n",
    "        headers = [th.get_text(strip=True) for th in table.find_all('th')]\n",
    "        if \"Market cap(US$ billion)\" in headers:\n",
    "            log_progress(f\"Found correct table at index {i}\")\n",
    "            rows = table.find_all('tr')\n",
    "            for row in rows:\n",
    "                cols = row.find_all('td')\n",
    "                if len(cols) >= 3 and cols[1].find('a'):\n",
    "                    bank_name = cols[1].a.text.strip()\n",
    "                    market_cap = cols[2].text.strip().replace(',', '')\n",
    "                    try:\n",
    "                        market_cap = float(market_cap)\n",
    "                        df1 = pd.DataFrame([[bank_name, market_cap]], columns=table_attribs)\n",
    "                        df = pd.concat([df, df1], ignore_index=True)\n",
    "                    except ValueError:\n",
    "                        continue\n",
    "            break\n",
    "\n",
    "    if df.empty:\n",
    "        log_progress(\"No data extracted. Table structure may have changed.\")\n",
    "\n",
    "    return df"
   ]
  },
  {
   "cell_type": "code",
   "execution_count": 4,
   "id": "7ab48f7e-380d-4b15-9ba7-4666eb773efe",
   "metadata": {},
   "outputs": [],
   "source": [
    "# ---------------------------- Transform Function ----------------------------\n",
    "def transform(df, csv_path):\n",
    "    exchange_rates = pd.read_csv(csv_path)\n",
    "    exchange_rates.columns = exchange_rates.columns.str.strip()\n",
    "    rates = exchange_rates.set_index('Currency')['Rate'].to_dict()\n",
    "\n",
    "    df.columns = df.columns.str.strip()\n",
    "    df['MC_USD_Billion'] = df['MC_USD_Billion'].astype(float)\n",
    "    df['MC_GBP_Billion'] = df['MC_USD_Billion'].apply(lambda x: round(x * rates['GBP'], 2))\n",
    "    df['MC_EUR_Billion'] = df['MC_USD_Billion'].apply(lambda x: round(x * rates['EUR'], 2))\n",
    "    df['MC_INR_Billion'] = df['MC_USD_Billion'].apply(lambda x: round(x * rates['INR'], 2))\n",
    "    return df"
   ]
  },
  {
   "cell_type": "code",
   "execution_count": 5,
   "id": "7327d46d-b8d8-494e-b17f-07c290be12d7",
   "metadata": {},
   "outputs": [],
   "source": [
    "# ---------------------------- Load Functions ----------------------------\n",
    "def load_to_csv(df, output_path):\n",
    "    df.to_csv(output_path, index=False)\n",
    "\n",
    "def load_to_db(df, db_name, table_name):\n",
    "    conn = sqlite3.connect(db_name)\n",
    "    df.to_sql(table_name, conn, if_exists='replace', index=False)\n",
    "    conn.close()\n",
    "\n",
    "def run_query(query_statement, sql_connection):\n",
    "    print(query_statement)\n",
    "    query_output = pd.read_sql(query_statement, sql_connection)\n",
    "    print(query_output)"
   ]
  },
  {
   "cell_type": "code",
   "execution_count": 6,
   "id": "0499bb8f-a9fb-4814-982b-3aa9c33addbc",
   "metadata": {},
   "outputs": [
    {
     "name": "stdout",
     "output_type": "stream",
     "text": [
      "SELECT * FROM Largest_banks\n",
      "  Name  MC_USD_Billion  MC_GBP_Billion  MC_EUR_Billion  MC_INR_Billion\n",
      "0               432.92          346.34          402.62        35910.71\n",
      "1               231.52          185.22          215.31        19204.58\n",
      "2               194.56          155.65          180.94        16138.75\n",
      "3               160.68          128.54          149.43        13328.41\n",
      "4               157.91          126.33          146.86        13098.63\n",
      "5               155.87          124.70          144.96        12929.42\n",
      "6               148.90          119.12          138.48        12351.26\n",
      "7               140.83          112.66          130.97        11681.85\n",
      "8               139.82          111.86          130.03        11598.07\n",
      "9               136.81          109.45          127.23        11348.39\n",
      "SELECT AVG(MC_GBP_Billion) FROM Largest_banks\n",
      "   AVG(MC_GBP_Billion)\n",
      "0              151.987\n"
     ]
    },
    {
     "name": "stderr",
     "output_type": "stream",
     "text": [
      "C:\\Users\\deepa\\AppData\\Local\\Temp\\ipykernel_2276\\1576424448.py:23: FutureWarning: The behavior of DataFrame concatenation with empty or all-NA entries is deprecated. In a future version, this will no longer exclude empty or all-NA columns when determining the result dtypes. To retain the old behavior, exclude the relevant entries before the concat operation.\n",
      "  df = pd.concat([df, df1], ignore_index=True)\n"
     ]
    }
   ],
   "source": [
    "# ---------------------------- Main Execution ----------------------------\n",
    "if __name__ == \"__main__\":\n",
    "    data_url = \"https://web.archive.org/web/20230908091635/https://en.wikipedia.org/wiki/List_of_largest_banks\"\n",
    "    exchange_csv_path = \"./exchange_rate.csv\"\n",
    "    output_csv_path = \"./Largest_banks_data.csv\"\n",
    "    db_name = \"Banks.db\"\n",
    "    table_name = \"Largest_banks\"\n",
    "\n",
    "    log_progress(\"ETL Job Started\")\n",
    "\n",
    "    # Extract\n",
    "    log_progress(\"Starting data extraction\")\n",
    "    table_attribs = [\"Name\", \"MC_USD_Billion\"]\n",
    "    df_extracted = extract(data_url, table_attribs)\n",
    "    log_progress(\"Data extraction completed\")\n",
    "\n",
    "    # Transform\n",
    "    log_progress(\"Starting data transformation\")\n",
    "    df_transformed = transform(df_extracted, exchange_csv_path)\n",
    "    log_progress(\"Data transformation completed\")\n",
    "\n",
    "    # Load\n",
    "    log_progress(\"Saving to CSV\")\n",
    "    load_to_csv(df_transformed, output_csv_path)\n",
    "    log_progress(\"CSV file saved\")\n",
    "\n",
    "    log_progress(\"Saving to database\")\n",
    "    load_to_db(df_transformed, db_name, table_name)\n",
    "    log_progress(\"Data saved to database\")\n",
    "\n",
    "    log_progress(\"ETL Job Completed\")\n",
    "    sql_connection = sqlite3.connect('Banks.db')\n",
    "    log_progress('SQL Connection initiated.')\n",
    "    log_progress('Data loaded to Database as table. Running the query')\n",
    "    \n",
    "    query_statement = f\"SELECT * FROM {table_name}\"\n",
    "    query_statement2 = f\"SELECT AVG(MC_GBP_Billion) FROM {table_name}\"\n",
    "    run_query(query_statement, sql_connection)\n",
    "    run_query(query_statement2, sql_connection)"
   ]
  },
  {
   "cell_type": "code",
   "execution_count": null,
   "id": "accb4e3f-a897-4e13-a1f6-db6e6c635daf",
   "metadata": {},
   "outputs": [],
   "source": []
  },
  {
   "cell_type": "code",
   "execution_count": null,
   "id": "79163142-2a21-4178-999d-d5810fcbbd54",
   "metadata": {},
   "outputs": [],
   "source": []
  }
 ],
 "metadata": {
  "kernelspec": {
   "display_name": "Python [conda env:base] *",
   "language": "python",
   "name": "conda-base-py"
  },
  "language_info": {
   "codemirror_mode": {
    "name": "ipython",
    "version": 3
   },
   "file_extension": ".py",
   "mimetype": "text/x-python",
   "name": "python",
   "nbconvert_exporter": "python",
   "pygments_lexer": "ipython3",
   "version": "3.12.7"
  }
 },
 "nbformat": 4,
 "nbformat_minor": 5
}
